{
 "cells": [
  {
   "cell_type": "code",
   "execution_count": 4,
   "id": "e926a463-5536-46f5-b039-7bffa4f618a6",
   "metadata": {},
   "outputs": [
    {
     "name": "stdout",
     "output_type": "stream",
     "text": [
      "Accuracy: 0.00%\n",
      "Classification Report:\n",
      "               precision    recall  f1-score   support\n",
      "\n",
      "           0       1.00      0.00      0.00       2.0\n",
      "           1       0.00      1.00      0.00       0.0\n",
      "\n",
      "    accuracy                           0.00       2.0\n",
      "   macro avg       0.50      0.50      0.00       2.0\n",
      "weighted avg       1.00      0.00      0.00       2.0\n",
      "\n",
      "Text: 'I am so excited about this product!' -> Sentiment: Positive\n",
      "Text: 'I hate it, totally worthless.' -> Sentiment: Positive\n"
     ]
    }
   ],
   "source": [
    "import numpy as np\n",
    "import pandas as pd\n",
    "from sklearn.model_selection import train_test_split\n",
    "from sklearn.feature_extraction.text import TfidfVectorizer\n",
    "from sklearn.naive_bayes import MultinomialNB\n",
    "from sklearn.metrics import accuracy_score, classification_report\n",
    "\n",
    "data = {'text': ['I love this product', 'This is the worst experience I have ever had', 'Amazing, I am so happy!',\n",
    "                 'I am really disappointed with this purchase'],\n",
    "        'sentiment': [1, 0, 1, 0]}\n",
    "\n",
    "df = pd.DataFrame(data)\n",
    "X_train, X_test, y_train, y_test = train_test_split(df['text'], df['sentiment'], test_size=0.5, random_state=42)\n",
    "\n",
    "# Convert text data to numerical features using TF-IDF\n",
    "vectorizer = TfidfVectorizer(stop_words='english')\n",
    "X_train_tfidf = vectorizer.fit_transform(X_train)\n",
    "X_test_tfidf = vectorizer.transform(X_test)\n",
    "\n",
    "# Create and train a Naive Bayes classifier\n",
    "model = MultinomialNB().fit(X_train_tfidf, y_train)\n",
    "\n",
    "# Predict the sentiment on the test data\n",
    "y_pred = model.predict(X_test_tfidf)\n",
    "\n",
    "# Print results\n",
    "print(f\"Accuracy: {accuracy_score(y_test, y_pred) * 100:.2f}%\")\n",
    "print(\"Classification Report:\\n\", classification_report(y_test, y_pred, zero_division=1))\n",
    "\n",
    "# Example of predicting new text\n",
    "new_text = [\"I am so excited about this product!\", \"I hate it, totally worthless.\"]\n",
    "predictions = model.predict(vectorizer.transform(new_text))\n",
    "\n",
    "for text, sentiment in zip(new_text, predictions):\n",
    "    print(f\"Text: '{text}' -> Sentiment: {'Positive' if sentiment == 1 else 'Negative'}\")\n"
   ]
  },
  {
   "cell_type": "code",
   "execution_count": null,
   "id": "fd751ba5-9b47-449c-88c2-d55c7e1857e8",
   "metadata": {},
   "outputs": [],
   "source": []
  }
 ],
 "metadata": {
  "kernelspec": {
   "display_name": "Python 3 (ipykernel)",
   "language": "python",
   "name": "python3"
  },
  "language_info": {
   "codemirror_mode": {
    "name": "ipython",
    "version": 3
   },
   "file_extension": ".py",
   "mimetype": "text/x-python",
   "name": "python",
   "nbconvert_exporter": "python",
   "pygments_lexer": "ipython3",
   "version": "3.12.7"
  }
 },
 "nbformat": 4,
 "nbformat_minor": 5
}
