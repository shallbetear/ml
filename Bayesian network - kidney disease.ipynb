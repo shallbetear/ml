{
 "cells": [
  {
   "cell_type": "code",
   "execution_count": null,
   "id": "32ef3adc-f4b2-4fa6-84bd-a2afb438420a",
   "metadata": {},
   "outputs": [],
   "source": [
    "import numpy as np\n",
    "import pandas as pd\n",
    "from pgmpy.models import BayesianNetwork\n",
    "from pgmpy.estimators import MaximumLikelihoodEstimator\n",
    "from pgmpy.inference import VariableElimination\n",
    "\n",
    "np.random.seed(0)\n",
    "data = {\n",
    "    'age': pd.cut(np.random.randint(18, 90, 300), bins=[18, 30, 50, 70, 90], labels=['young', 'adult', 'senior', 'elderly']),\n",
    "    'bp': pd.cut(np.random.randint(60, 200, 300), bins=[60, 90, 120, 150, 200], labels=['low', 'normal', 'high', 'very-high']),\n",
    "    'sg': np.random.choice([1.005, 1.010, 1.015, 1.020, 1.025], 300),\n",
    "    'al': np.random.randint(0, 5, 300), 'su': np.random.randint(0, 5, 300),\n",
    "    'bgr': np.random.randint(50, 500, 300), 'sc': np.random.uniform(0.1, 15.0, 300),\n",
    "    'hemo': np.random.uniform(3.0, 18.0, 300), 'htn': np.random.choice([0, 1], 300),\n",
    "    'dm': np.random.choice([0, 1], 300), 'ane': np.random.choice(['yes', 'no'], 300),\n",
    "    'class': np.random.choice([0, 1], 300)\n",
    "}\n",
    "df = pd.DataFrame(data)\n",
    "model = BayesianNetwork([\n",
    "    ('age', 'bp'), ('bp', 'class'), ('sg', 'class'), ('al', 'class'), ('sc', 'class'),\n",
    "    ('bgr', 'class'), ('hemo', 'class'), ('htn', 'class'), ('dm', 'class'), ('ane', 'class')\n",
    "])\n",
    "model.fit(df, estimator=MaximumLikelihoodEstimator)\n",
    "infer = VariableElimination(model)\n",
    "print(infer.query(variables=['class'], evidence={'age': 'senior'}))\n"
   ]
  }
 ],
 "metadata": {
  "kernelspec": {
   "display_name": "Python 3 (ipykernel)",
   "language": "python",
   "name": "python3"
  },
  "language_info": {
   "codemirror_mode": {
    "name": "ipython",
    "version": 3
   },
   "file_extension": ".py",
   "mimetype": "text/x-python",
   "name": "python",
   "nbconvert_exporter": "python",
   "pygments_lexer": "ipython3",
   "version": "3.12.7"
  }
 },
 "nbformat": 4,
 "nbformat_minor": 5
}
