{
 "cells": [
  {
   "cell_type": "code",
   "execution_count": 5,
   "id": "113e3e88-498e-4bc6-89f6-95f580df6ac1",
   "metadata": {
    "scrolled": true
   },
   "outputs": [
    {
     "name": "stdout",
     "output_type": "stream",
     "text": [
      "+-----------------+---------------------+\n",
      "| heartdisease    |   phi(heartdisease) |\n",
      "+=================+=====================+\n",
      "| heartdisease(0) |              0.5098 |\n",
      "+-----------------+---------------------+\n",
      "| heartdisease(1) |              0.4902 |\n",
      "+-----------------+---------------------+\n",
      "+-----------------+---------------------+\n",
      "| heartdisease    |   phi(heartdisease) |\n",
      "+=================+=====================+\n",
      "| heartdisease(0) |              0.5315 |\n",
      "+-----------------+---------------------+\n",
      "| heartdisease(1) |              0.4685 |\n",
      "+-----------------+---------------------+\n"
     ]
    }
   ],
   "source": [
    "import numpy as np\n",
    "import pandas as pd\n",
    "from pgmpy.models import BayesianNetwork\n",
    "from pgmpy.estimators import MaximumLikelihoodEstimator\n",
    "from pgmpy.inference import VariableElimination\n",
    "np.random.seed(0)\n",
    "data = {\n",
    "    'age': pd.cut(np.random.randint(29, 77, 300), bins=[29, 40, 50, 60, 77], labels=['young', 'mid-age', 'old', 'very-old']),\n",
    "    'sex': np.random.choice([0, 1], 300),\n",
    "    'cp': np.random.randint(0, 4, 300),\n",
    "    'trestbps': np.random.randint(94, 200, 300),\n",
    "    'chol': pd.cut(np.random.randint(126, 564, 300), bins=[126, 200, 300, 400, 564], labels=['low', 'medium', 'high', 'very-high']),\n",
    "    'fbs': np.random.choice([0, 1], 300),\n",
    "    'restecg': np.random.randint(0, 2, 300),\n",
    "    'thalach': np.random.randint(71, 202, 300),\n",
    "    'exang': np.random.choice([0, 1], 300),\n",
    "    'oldpeak': np.random.uniform(0.0, 6.2, 300),\n",
    "    'slope': np.random.randint(0, 3, 300),\n",
    "    'ca': np.random.randint(0, 4, 300),\n",
    "    'thal': np.random.randint(1, 4, 300),\n",
    "    'heartdisease': np.random.choice([0, 1], 300)\n",
    "}\n",
    "heartDisease_df = pd.DataFrame(data)\n",
    "model = BayesianNetwork([\n",
    "    ('age', 'trestbps'), ('age', 'fbs'), ('sex', 'trestbps'), ('exang', 'trestbps'),\n",
    "    ('trestbps', 'heartdisease'), ('fbs', 'heartdisease'), ('heartdisease', 'restecg'),\n",
    "    ('heartdisease', 'thalach'), ('heartdisease', 'chol')\n",
    "])\n",
    "model.fit(heartDisease_df, estimator=MaximumLikelihoodEstimator)\n",
    "infer = VariableElimination(model)\n",
    "print(infer.query(variables=['heartdisease'], evidence={'age': 'young'}))\n",
    "print(infer.query(variables=['heartdisease'], evidence={'chol': 'low'}))\n"
   ]
  },
  {
   "cell_type": "code",
   "execution_count": null,
   "id": "83607e44-fdc0-4012-a590-74704a919b89",
   "metadata": {},
   "outputs": [],
   "source": []
  }
 ],
 "metadata": {
  "kernelspec": {
   "display_name": "Python 3 (ipykernel)",
   "language": "python",
   "name": "python3"
  },
  "language_info": {
   "codemirror_mode": {
    "name": "ipython",
    "version": 3
   },
   "file_extension": ".py",
   "mimetype": "text/x-python",
   "name": "python",
   "nbconvert_exporter": "python",
   "pygments_lexer": "ipython3",
   "version": "3.12.7"
  }
 },
 "nbformat": 4,
 "nbformat_minor": 5
}
