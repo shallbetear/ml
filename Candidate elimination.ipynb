{
 "cells": [
  {
   "cell_type": "code",
   "execution_count": 3,
   "id": "5ae07b0b-2df2-4915-8ecb-f44951dfd039",
   "metadata": {},
   "outputs": [
    {
     "name": "stdout",
     "output_type": "stream",
     "text": [
      "Final Specific Hypothesis (S): [np.str_('Sunny'), np.str_('Warm'), '?', np.str_('Strong'), '?', '?']\n",
      "Final General Hypotheses (G): [['?', '?', '?', '?', '?', '?']]\n"
     ]
    }
   ],
   "source": [
    "import numpy as np\n",
    "\n",
    "def candidate_elimination(data, target):\n",
    "    num_attributes = data.shape[1]\n",
    "    S = ['Ø'] * num_attributes\n",
    "    G = [['?'] * num_attributes]\n",
    "\n",
    "    for i, example in enumerate(data):\n",
    "        if target[i] == \"Yes\":\n",
    "            S = [example[j] if S[j] == 'Ø' else (S[j] if S[j] == example[j] else '?') for j in range(num_attributes)]\n",
    "            G = [g for g in G if is_consistent(g, example)]\n",
    "        else:\n",
    "            if is_consistent(S, example): S = ['Ø'] * num_attributes\n",
    "            G = [specialize(g, example, data) if is_consistent(g, example) else g for g in G]\n",
    "\n",
    "    return S, G\n",
    "\n",
    "def is_consistent(hypothesis, example):\n",
    "    return all(h == '?' or h == e for h, e in zip(hypothesis, example))\n",
    "\n",
    "def specialize(hypothesis, example, data):\n",
    "    return [h if h == '?' or h != example[j] else [value for value in np.unique(data[:, j]) if value != example[j]] for j, h in enumerate(hypothesis)]\n",
    "\n",
    "data = np.array([\n",
    "    ['Sunny', 'Warm', 'Normal', 'Strong', 'Warm', 'Same'],\n",
    "    ['Sunny', 'Warm', 'High', 'Strong', 'Warm', 'Same'],\n",
    "    ['Rainy', 'Cold', 'High', 'Strong', 'Warm', 'Change'],\n",
    "    ['Sunny', 'Warm', 'High', 'Strong', 'Cool', 'Change']\n",
    "])\n",
    "target = np.array(['Yes', 'Yes', 'No', 'Yes'])\n",
    "\n",
    "S, G = candidate_elimination(data, target)\n",
    "\n",
    "print(\"Final Specific Hypothesis (S):\", S)\n",
    "print(\"Final General Hypotheses (G):\", G)"
   ]
  },
  {
   "cell_type": "code",
   "execution_count": null,
   "id": "3eac80c9-ae4a-441d-9c4c-9695a7749b24",
   "metadata": {},
   "outputs": [],
   "source": []
  }
 ],
 "metadata": {
  "kernelspec": {
   "display_name": "Python 3 (ipykernel)",
   "language": "python",
   "name": "python3"
  },
  "language_info": {
   "codemirror_mode": {
    "name": "ipython",
    "version": 3
   },
   "file_extension": ".py",
   "mimetype": "text/x-python",
   "name": "python",
   "nbconvert_exporter": "python",
   "pygments_lexer": "ipython3",
   "version": "3.12.7"
  }
 },
 "nbformat": 4,
 "nbformat_minor": 5
}
