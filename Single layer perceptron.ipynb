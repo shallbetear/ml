{
 "cells": [
  {
   "cell_type": "code",
   "execution_count": 2,
   "id": "c5f8f0ba-32cd-4ce7-b613-4c6cc99fbe91",
   "metadata": {},
   "outputs": [
    {
     "name": "stdout",
     "output_type": "stream",
     "text": [
      "Input: [0 0], Predicted Output: 0\n",
      "Input: [0 1], Predicted Output: 1\n",
      "Input: [1 0], Predicted Output: 1\n",
      "Input: [1 1], Predicted Output: 1\n"
     ]
    }
   ],
   "source": [
    "import numpy as np\n",
    "\n",
    "class SingleLayerPerceptron:\n",
    "    def __init__(self, input_size, learning_rate=0.1, epochs=1000):\n",
    "        self.weights = np.zeros(input_size + 1)  # Initialize weights (including bias)\n",
    "        self.learning_rate = learning_rate\n",
    "        self.epochs = epochs\n",
    "\n",
    "    def activation_function(self, x):\n",
    "        \"\"\"Step function: Returns 1 if x >= 0, else 0\"\"\"\n",
    "        return 1 if x >= 0 else 0\n",
    "\n",
    "    def predict(self, inputs):\n",
    "        \"\"\"Predict output for given inputs using the trained weights\"\"\"\n",
    "        summation = np.dot(inputs, self.weights[1:]) + self.weights[0]  # weighted sum + bias\n",
    "        return self.activation_function(summation)\n",
    "\n",
    "    def train(self, X, y):\n",
    "        \"\"\"Train the perceptron using the Perceptron learning rule\"\"\"\n",
    "        for epoch in range(self.epochs):\n",
    "            for inputs, target in zip(X, y):\n",
    "                prediction = self.predict(inputs)\n",
    "                error = target - prediction\n",
    "                self.weights[1:] += self.learning_rate * error * inputs  # Update weights\n",
    "                self.weights[0] += self.learning_rate * error  # Update bias\n",
    "\n",
    "# Example: Logical OR Gate\n",
    "X = np.array([[0, 0], [0, 1], [1, 0], [1, 1]])  # Input: 2 features\n",
    "y = np.array([0, 1, 1, 1])  # Output: OR gate results\n",
    "\n",
    "# Initialize perceptron with 2 input features\n",
    "perceptron = SingleLayerPerceptron(input_size=2)\n",
    "\n",
    "# Train the perceptron\n",
    "perceptron.train(X, y)\n",
    "\n",
    "# Test the perceptron\n",
    "for inputs in X:\n",
    "    print(f\"Input: {inputs}, Predicted Output: {perceptron.predict(inputs)}\")"
   ]
  },
  {
   "cell_type": "code",
   "execution_count": null,
   "id": "98364515-56c7-439b-a952-feb65c80084a",
   "metadata": {},
   "outputs": [],
   "source": []
  }
 ],
 "metadata": {
  "kernelspec": {
   "display_name": "Python 3 (ipykernel)",
   "language": "python",
   "name": "python3"
  },
  "language_info": {
   "codemirror_mode": {
    "name": "ipython",
    "version": 3
   },
   "file_extension": ".py",
   "mimetype": "text/x-python",
   "name": "python",
   "nbconvert_exporter": "python",
   "pygments_lexer": "ipython3",
   "version": "3.12.7"
  }
 },
 "nbformat": 4,
 "nbformat_minor": 5
}
