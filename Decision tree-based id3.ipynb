{
 "cells": [
  {
   "cell_type": "code",
   "execution_count": 3,
   "id": "0ca23f29-fe67-4c67-8db7-1b4134211e8a",
   "metadata": {},
   "outputs": [
    {
     "name": "stdout",
     "output_type": "stream",
     "text": [
      "Outlook\n",
      "  Overcast\n",
      "    --> Yes\n",
      "  Rain\n",
      "    Temperature\n",
      "      Cool\n",
      "        Wind\n",
      "          Strong\n",
      "            --> No\n",
      "          Weak\n",
      "            --> Yes\n",
      "      Mild\n",
      "        --> Yes\n",
      "  Sunny\n",
      "    Humidity\n",
      "      High\n",
      "        --> No\n",
      "      Normal\n",
      "        --> Yes\n"
     ]
    }
   ],
   "source": [
    "import numpy as np\n",
    "from collections import Counter\n",
    "\n",
    "def entropy(data):\n",
    "    return -sum((count / len(data)) * np.log2(count / len(data)) for count in Counter(data).values())\n",
    "\n",
    "def information_gain(data, feature_index, target):\n",
    "    total_entropy = entropy(target)\n",
    "    values, counts = np.unique(data[:, feature_index], return_counts=True)\n",
    "    weighted_entropy = sum((counts[i] / len(target)) * entropy(target[data[:, feature_index] == values[i]]) for i in range(len(values)))\n",
    "    return total_entropy - weighted_entropy\n",
    "\n",
    "def id3(data, target, features, depth=0, max_depth=None):\n",
    "    if len(np.unique(target)) == 1 or len(features) == 0 or (max_depth and depth >= max_depth): \n",
    "        return Counter(target).most_common(1)[0][0]\n",
    "    feature_gains = [information_gain(data, i, target) for i in range(len(features))]\n",
    "    best_feature = features[np.argmax(feature_gains)]\n",
    "    tree = {best_feature: {}}\n",
    "    for value in np.unique(data[:, np.argmax(feature_gains)]):\n",
    "        sub_data, sub_target = data[data[:, np.argmax(feature_gains)] == value], target[data[:, np.argmax(feature_gains)] == value]\n",
    "        tree[best_feature][value] = id3(np.delete(sub_data, np.argmax(feature_gains), axis=1), sub_target, features[:np.argmax(feature_gains)] + features[np.argmax(feature_gains) + 1:], depth + 1, max_depth)\n",
    "    return tree\n",
    "\n",
    "def print_tree(tree, depth=0):\n",
    "    if isinstance(tree, dict):\n",
    "        for key, value in tree.items():\n",
    "            print(\"  \" * depth + str(key))\n",
    "            print_tree(value, depth + 1)\n",
    "    else:\n",
    "        print(\"  \" * depth + f\"--> {tree}\")\n",
    "\n",
    "data = np.array([\n",
    "    ['Sunny', 'Hot', 'High', 'Weak', 'No'], ['Sunny', 'Hot', 'High', 'Strong', 'No'],\n",
    "    ['Overcast', 'Hot', 'High', 'Weak', 'Yes'], ['Rain', 'Mild', 'High', 'Weak', 'Yes'],\n",
    "    ['Rain', 'Cool', 'Normal', 'Weak', 'Yes'], ['Rain', 'Cool', 'Normal', 'Strong', 'No'],\n",
    "    ['Overcast', 'Cool', 'Normal', 'Strong', 'Yes'], ['Sunny', 'Mild', 'High', 'Weak', 'No'],\n",
    "    ['Sunny', 'Cool', 'Normal', 'Weak', 'Yes'], ['Rain', 'Mild', 'Normal', 'Weak', 'Yes'],\n",
    "    ['Sunny', 'Mild', 'Normal', 'Strong', 'Yes'], ['Overcast', 'Mild', 'High', 'Strong', 'Yes'],\n",
    "    ['Overcast', 'Hot', 'Normal', 'Weak', 'Yes'], ['Rain', 'Mild', 'High', 'Strong', 'No']\n",
    "])\n",
    "feature_names = ['Outlook', 'Temperature', 'Humidity', 'Wind']\n",
    "target = data[:, -1]\n",
    "tree = id3(data[:, :-1], target, feature_names)\n",
    "print_tree(tree)"
   ]
  },
  {
   "cell_type": "code",
   "execution_count": null,
   "id": "af752e0e-e495-45a6-9f59-92b841357d6f",
   "metadata": {},
   "outputs": [],
   "source": []
  }
 ],
 "metadata": {
  "kernelspec": {
   "display_name": "Python 3 (ipykernel)",
   "language": "python",
   "name": "python3"
  },
  "language_info": {
   "codemirror_mode": {
    "name": "ipython",
    "version": 3
   },
   "file_extension": ".py",
   "mimetype": "text/x-python",
   "name": "python",
   "nbconvert_exporter": "python",
   "pygments_lexer": "ipython3",
   "version": "3.12.7"
  }
 },
 "nbformat": 4,
 "nbformat_minor": 5
}
